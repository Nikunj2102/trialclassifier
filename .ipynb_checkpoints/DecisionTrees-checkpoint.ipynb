{
 "cells": [
  {
   "cell_type": "markdown",
   "metadata": {},
   "source": [
    "IMPORT STATEMENTS"
   ]
  },
  {
   "cell_type": "code",
   "execution_count": 1,
   "metadata": {},
   "outputs": [],
   "source": [
    "import numpy as np\n",
    "import matplotlib.pyplot as plt\n",
    "import pandas as pd\n",
    "\n",
    "from statistics import mean\n",
    "from sklearn.model_selection import KFold\n",
    "from sklearn.preprocessing import StandardScaler,LabelEncoder\n",
    "from sklearn import tree\n",
    "from sklearn.ensemble import BaggingClassifier\n",
    "from sklearn.metrics import confusion_matrix\n",
    "\n",
    "from matplotlib.colors import ListedColormap\n",
    "\n",
    "from sklearn.metrics import classification_report"
   ]
  },
  {
   "cell_type": "markdown",
   "metadata": {},
   "source": [
    "IMPORT DATASET"
   ]
  },
  {
   "cell_type": "code",
   "execution_count": 2,
   "metadata": {},
   "outputs": [
    {
     "data": {
      "text/html": [
       "<div>\n",
       "<style scoped>\n",
       "    .dataframe tbody tr th:only-of-type {\n",
       "        vertical-align: middle;\n",
       "    }\n",
       "\n",
       "    .dataframe tbody tr th {\n",
       "        vertical-align: top;\n",
       "    }\n",
       "\n",
       "    .dataframe thead th {\n",
       "        text-align: right;\n",
       "    }\n",
       "</style>\n",
       "<table border=\"1\" class=\"dataframe\">\n",
       "  <thead>\n",
       "    <tr style=\"text-align: right;\">\n",
       "      <th></th>\n",
       "      <th>IDType</th>\n",
       "      <th>NOII_type</th>\n",
       "      <th>NOAM_type</th>\n",
       "      <th>NOCS_type</th>\n",
       "      <th>NOM_type</th>\n",
       "      <th>NMO_type</th>\n",
       "      <th>ATFD_type</th>\n",
       "      <th>FANOUT_type</th>\n",
       "      <th>NOMNAMM_type</th>\n",
       "      <th>NOA_type</th>\n",
       "      <th>...</th>\n",
       "      <th>number_abstract_methods</th>\n",
       "      <th>number_not_abstract_not_final_methods</th>\n",
       "      <th>number_static_methods</th>\n",
       "      <th>number_final_static_methods</th>\n",
       "      <th>number_final_not_static_methods</th>\n",
       "      <th>number_not_final_static_methods</th>\n",
       "      <th>number_not_final_not_static_methods</th>\n",
       "      <th>number_standard_design_methods</th>\n",
       "      <th>number_constructor_DefaultConstructor_methods</th>\n",
       "      <th>number_constructor_NotDefaultConstructor_methods</th>\n",
       "    </tr>\n",
       "  </thead>\n",
       "  <tbody>\n",
       "    <tr>\n",
       "      <th>count</th>\n",
       "      <td>420.000000</td>\n",
       "      <td>420.000000</td>\n",
       "      <td>420.000000</td>\n",
       "      <td>420.000000</td>\n",
       "      <td>420.000000</td>\n",
       "      <td>420.000000</td>\n",
       "      <td>420.000000</td>\n",
       "      <td>420.000000</td>\n",
       "      <td>420.000000</td>\n",
       "      <td>420.000000</td>\n",
       "      <td>...</td>\n",
       "      <td>420.000000</td>\n",
       "      <td>420.000000</td>\n",
       "      <td>420.000000</td>\n",
       "      <td>420.000000</td>\n",
       "      <td>420.000000</td>\n",
       "      <td>420.000000</td>\n",
       "      <td>420.000000</td>\n",
       "      <td>420.000000</td>\n",
       "      <td>420.000000</td>\n",
       "      <td>420.000000</td>\n",
       "    </tr>\n",
       "    <tr>\n",
       "      <th>mean</th>\n",
       "      <td>15339.166667</td>\n",
       "      <td>0.500000</td>\n",
       "      <td>6.083333</td>\n",
       "      <td>1.247619</td>\n",
       "      <td>21.861905</td>\n",
       "      <td>1.095238</td>\n",
       "      <td>15.314286</td>\n",
       "      <td>8.376190</td>\n",
       "      <td>15.778571</td>\n",
       "      <td>14.142857</td>\n",
       "      <td>...</td>\n",
       "      <td>0.069048</td>\n",
       "      <td>21.135714</td>\n",
       "      <td>2.240476</td>\n",
       "      <td>0.121429</td>\n",
       "      <td>0.690476</td>\n",
       "      <td>2.119048</td>\n",
       "      <td>19.085714</td>\n",
       "      <td>14.645238</td>\n",
       "      <td>0.154762</td>\n",
       "      <td>1.133333</td>\n",
       "    </tr>\n",
       "    <tr>\n",
       "      <th>std</th>\n",
       "      <td>14493.493359</td>\n",
       "      <td>0.973393</td>\n",
       "      <td>9.384912</td>\n",
       "      <td>4.438454</td>\n",
       "      <td>33.939156</td>\n",
       "      <td>4.083318</td>\n",
       "      <td>34.857450</td>\n",
       "      <td>14.083671</td>\n",
       "      <td>29.836324</td>\n",
       "      <td>22.098361</td>\n",
       "      <td>...</td>\n",
       "      <td>0.486077</td>\n",
       "      <td>33.220076</td>\n",
       "      <td>19.544009</td>\n",
       "      <td>0.779828</td>\n",
       "      <td>5.157603</td>\n",
       "      <td>19.428472</td>\n",
       "      <td>26.859793</td>\n",
       "      <td>29.472536</td>\n",
       "      <td>0.362109</td>\n",
       "      <td>1.226724</td>\n",
       "    </tr>\n",
       "    <tr>\n",
       "      <th>min</th>\n",
       "      <td>25.000000</td>\n",
       "      <td>0.000000</td>\n",
       "      <td>0.000000</td>\n",
       "      <td>0.000000</td>\n",
       "      <td>1.000000</td>\n",
       "      <td>0.000000</td>\n",
       "      <td>0.000000</td>\n",
       "      <td>0.000000</td>\n",
       "      <td>0.000000</td>\n",
       "      <td>0.000000</td>\n",
       "      <td>...</td>\n",
       "      <td>0.000000</td>\n",
       "      <td>0.000000</td>\n",
       "      <td>0.000000</td>\n",
       "      <td>0.000000</td>\n",
       "      <td>0.000000</td>\n",
       "      <td>0.000000</td>\n",
       "      <td>0.000000</td>\n",
       "      <td>0.000000</td>\n",
       "      <td>0.000000</td>\n",
       "      <td>0.000000</td>\n",
       "    </tr>\n",
       "    <tr>\n",
       "      <th>25%</th>\n",
       "      <td>2071.750000</td>\n",
       "      <td>0.000000</td>\n",
       "      <td>0.000000</td>\n",
       "      <td>0.000000</td>\n",
       "      <td>5.000000</td>\n",
       "      <td>0.000000</td>\n",
       "      <td>0.000000</td>\n",
       "      <td>0.000000</td>\n",
       "      <td>1.000000</td>\n",
       "      <td>3.000000</td>\n",
       "      <td>...</td>\n",
       "      <td>0.000000</td>\n",
       "      <td>4.750000</td>\n",
       "      <td>0.000000</td>\n",
       "      <td>0.000000</td>\n",
       "      <td>0.000000</td>\n",
       "      <td>0.000000</td>\n",
       "      <td>4.000000</td>\n",
       "      <td>0.000000</td>\n",
       "      <td>0.000000</td>\n",
       "      <td>0.000000</td>\n",
       "    </tr>\n",
       "    <tr>\n",
       "      <th>50%</th>\n",
       "      <td>11974.500000</td>\n",
       "      <td>0.000000</td>\n",
       "      <td>3.000000</td>\n",
       "      <td>0.000000</td>\n",
       "      <td>9.000000</td>\n",
       "      <td>0.000000</td>\n",
       "      <td>0.000000</td>\n",
       "      <td>1.000000</td>\n",
       "      <td>4.000000</td>\n",
       "      <td>6.000000</td>\n",
       "      <td>...</td>\n",
       "      <td>0.000000</td>\n",
       "      <td>9.000000</td>\n",
       "      <td>0.000000</td>\n",
       "      <td>0.000000</td>\n",
       "      <td>0.000000</td>\n",
       "      <td>0.000000</td>\n",
       "      <td>8.500000</td>\n",
       "      <td>2.000000</td>\n",
       "      <td>0.000000</td>\n",
       "      <td>1.000000</td>\n",
       "    </tr>\n",
       "    <tr>\n",
       "      <th>75%</th>\n",
       "      <td>24549.000000</td>\n",
       "      <td>1.000000</td>\n",
       "      <td>8.000000</td>\n",
       "      <td>0.000000</td>\n",
       "      <td>25.250000</td>\n",
       "      <td>1.000000</td>\n",
       "      <td>13.000000</td>\n",
       "      <td>11.000000</td>\n",
       "      <td>18.000000</td>\n",
       "      <td>15.250000</td>\n",
       "      <td>...</td>\n",
       "      <td>0.000000</td>\n",
       "      <td>23.000000</td>\n",
       "      <td>0.000000</td>\n",
       "      <td>0.000000</td>\n",
       "      <td>0.000000</td>\n",
       "      <td>0.000000</td>\n",
       "      <td>22.000000</td>\n",
       "      <td>16.250000</td>\n",
       "      <td>0.000000</td>\n",
       "      <td>1.000000</td>\n",
       "    </tr>\n",
       "    <tr>\n",
       "      <th>max</th>\n",
       "      <td>58934.000000</td>\n",
       "      <td>11.000000</td>\n",
       "      <td>89.000000</td>\n",
       "      <td>46.000000</td>\n",
       "      <td>395.000000</td>\n",
       "      <td>40.000000</td>\n",
       "      <td>332.000000</td>\n",
       "      <td>77.000000</td>\n",
       "      <td>394.000000</td>\n",
       "      <td>155.000000</td>\n",
       "      <td>...</td>\n",
       "      <td>6.000000</td>\n",
       "      <td>394.000000</td>\n",
       "      <td>387.000000</td>\n",
       "      <td>9.000000</td>\n",
       "      <td>65.000000</td>\n",
       "      <td>386.000000</td>\n",
       "      <td>188.000000</td>\n",
       "      <td>392.000000</td>\n",
       "      <td>1.000000</td>\n",
       "      <td>12.000000</td>\n",
       "    </tr>\n",
       "  </tbody>\n",
       "</table>\n",
       "<p>8 rows × 62 columns</p>\n",
       "</div>"
      ],
      "text/plain": [
       "             IDType   NOII_type   NOAM_type   NOCS_type    NOM_type  \\\n",
       "count    420.000000  420.000000  420.000000  420.000000  420.000000   \n",
       "mean   15339.166667    0.500000    6.083333    1.247619   21.861905   \n",
       "std    14493.493359    0.973393    9.384912    4.438454   33.939156   \n",
       "min       25.000000    0.000000    0.000000    0.000000    1.000000   \n",
       "25%     2071.750000    0.000000    0.000000    0.000000    5.000000   \n",
       "50%    11974.500000    0.000000    3.000000    0.000000    9.000000   \n",
       "75%    24549.000000    1.000000    8.000000    0.000000   25.250000   \n",
       "max    58934.000000   11.000000   89.000000   46.000000  395.000000   \n",
       "\n",
       "         NMO_type   ATFD_type  FANOUT_type  NOMNAMM_type    NOA_type  ...  \\\n",
       "count  420.000000  420.000000   420.000000    420.000000  420.000000  ...   \n",
       "mean     1.095238   15.314286     8.376190     15.778571   14.142857  ...   \n",
       "std      4.083318   34.857450    14.083671     29.836324   22.098361  ...   \n",
       "min      0.000000    0.000000     0.000000      0.000000    0.000000  ...   \n",
       "25%      0.000000    0.000000     0.000000      1.000000    3.000000  ...   \n",
       "50%      0.000000    0.000000     1.000000      4.000000    6.000000  ...   \n",
       "75%      1.000000   13.000000    11.000000     18.000000   15.250000  ...   \n",
       "max     40.000000  332.000000    77.000000    394.000000  155.000000  ...   \n",
       "\n",
       "       number_abstract_methods  number_not_abstract_not_final_methods  \\\n",
       "count               420.000000                             420.000000   \n",
       "mean                  0.069048                              21.135714   \n",
       "std                   0.486077                              33.220076   \n",
       "min                   0.000000                               0.000000   \n",
       "25%                   0.000000                               4.750000   \n",
       "50%                   0.000000                               9.000000   \n",
       "75%                   0.000000                              23.000000   \n",
       "max                   6.000000                             394.000000   \n",
       "\n",
       "       number_static_methods  number_final_static_methods  \\\n",
       "count             420.000000                   420.000000   \n",
       "mean                2.240476                     0.121429   \n",
       "std                19.544009                     0.779828   \n",
       "min                 0.000000                     0.000000   \n",
       "25%                 0.000000                     0.000000   \n",
       "50%                 0.000000                     0.000000   \n",
       "75%                 0.000000                     0.000000   \n",
       "max               387.000000                     9.000000   \n",
       "\n",
       "       number_final_not_static_methods  number_not_final_static_methods  \\\n",
       "count                       420.000000                       420.000000   \n",
       "mean                          0.690476                         2.119048   \n",
       "std                           5.157603                        19.428472   \n",
       "min                           0.000000                         0.000000   \n",
       "25%                           0.000000                         0.000000   \n",
       "50%                           0.000000                         0.000000   \n",
       "75%                           0.000000                         0.000000   \n",
       "max                          65.000000                       386.000000   \n",
       "\n",
       "       number_not_final_not_static_methods  number_standard_design_methods  \\\n",
       "count                           420.000000                      420.000000   \n",
       "mean                             19.085714                       14.645238   \n",
       "std                              26.859793                       29.472536   \n",
       "min                               0.000000                        0.000000   \n",
       "25%                               4.000000                        0.000000   \n",
       "50%                               8.500000                        2.000000   \n",
       "75%                              22.000000                       16.250000   \n",
       "max                             188.000000                      392.000000   \n",
       "\n",
       "       number_constructor_DefaultConstructor_methods  \\\n",
       "count                                     420.000000   \n",
       "mean                                        0.154762   \n",
       "std                                         0.362109   \n",
       "min                                         0.000000   \n",
       "25%                                         0.000000   \n",
       "50%                                         0.000000   \n",
       "75%                                         0.000000   \n",
       "max                                         1.000000   \n",
       "\n",
       "       number_constructor_NotDefaultConstructor_methods  \n",
       "count                                        420.000000  \n",
       "mean                                           1.133333  \n",
       "std                                            1.226724  \n",
       "min                                            0.000000  \n",
       "25%                                            0.000000  \n",
       "50%                                            1.000000  \n",
       "75%                                            1.000000  \n",
       "max                                           12.000000  \n",
       "\n",
       "[8 rows x 62 columns]"
      ]
     },
     "execution_count": 2,
     "metadata": {},
     "output_type": "execute_result"
    }
   ],
   "source": [
    "datasets = pd.read_csv('data-class.csv')\n",
    "datasets.describe()"
   ]
  },
  {
   "cell_type": "code",
   "execution_count": 3,
   "metadata": {},
   "outputs": [
    {
     "name": "stderr",
     "output_type": "stream",
     "text": [
      "'c' argument looks like a single numeric RGB or RGBA sequence, which should be avoided as value-mapping will have precedence in case its length matches with 'x' & 'y'.  Please use a 2-D array with a single row if you really want to specify the same RGB or RGBA value for all points.\n",
      "'c' argument looks like a single numeric RGB or RGBA sequence, which should be avoided as value-mapping will have precedence in case its length matches with 'x' & 'y'.  Please use a 2-D array with a single row if you really want to specify the same RGB or RGBA value for all points.\n"
     ]
    },
    {
     "name": "stdout",
     "output_type": "stream",
     "text": [
      "W/O [[68  1]\n",
      " [ 1 14]] \n",
      "\n",
      "W: [[68  1]\n",
      " [ 1 14]]\n"
     ]
    },
    {
     "data": {
      "image/png": "[encoded data removed]",
      "text/plain": [
       "<Figure size 432x288 with 1 Axes>"
      ]
     },
     "metadata": {
      "needs_background": "light"
     },
     "output_type": "display_data"
    },
    {
     "name": "stderr",
     "output_type": "stream",
     "text": [
      "'c' argument looks like a single numeric RGB or RGBA sequence, which should be avoided as value-mapping will have precedence in case its length matches with 'x' & 'y'.  Please use a 2-D array with a single row if you really want to specify the same RGB or RGBA value for all points.\n",
      "'c' argument looks like a single numeric RGB or RGBA sequence, which should be avoided as value-mapping will have precedence in case its length matches with 'x' & 'y'.  Please use a 2-D array with a single row if you really want to specify the same RGB or RGBA value for all points.\n"
     ]
    },
    {
     "data": {
      "image/png": "[encoded data removed]",
      "text/plain": [
       "<Figure size 432x288 with 1 Axes>"
      ]
     },
     "metadata": {
      "needs_background": "light"
     },
     "output_type": "display_data"
    },
    {
     "name": "stderr",
     "output_type": "stream",
     "text": [
      "'c' argument looks like a single numeric RGB or RGBA sequence, which should be avoided as value-mapping will have precedence in case its length matches with 'x' & 'y'.  Please use a 2-D array with a single row if you really want to specify the same RGB or RGBA value for all points.\n",
      "'c' argument looks like a single numeric RGB or RGBA sequence, which should be avoided as value-mapping will have precedence in case its length matches with 'x' & 'y'.  Please use a 2-D array with a single row if you really want to specify the same RGB or RGBA value for all points.\n"
     ]
    },
    {
     "name": "stdout",
     "output_type": "stream",
     "text": [
      "W/O [[54  2]\n",
      " [ 0 28]] \n",
      "\n",
      "W: [[53  3]\n",
      " [ 0 28]]\n"
     ]
    },
    {
     "data": {
      "image/png": "[encoded data removed]",
      "text/plain": [
       "<Figure size 432x288 with 1 Axes>"
      ]
     },
     "metadata": {
      "needs_background": "light"
     },
     "output_type": "display_data"
    },
    {
     "name": "stderr",
     "output_type": "stream",
     "text": [
      "'c' argument looks like a single numeric RGB or RGBA sequence, which should be avoided as value-mapping will have precedence in case its length matches with 'x' & 'y'.  Please use a 2-D array with a single row if you really want to specify the same RGB or RGBA value for all points.\n",
      "'c' argument looks like a single numeric RGB or RGBA sequence, which should be avoided as value-mapping will have precedence in case its length matches with 'x' & 'y'.  Please use a 2-D array with a single row if you really want to specify the same RGB or RGBA value for all points.\n"
     ]
    },
    {
     "data": {
      "image/png": "[encoded data removed]",
      "text/plain": [
       "<Figure size 432x288 with 1 Axes>"
      ]
     },
     "metadata": {
      "needs_background": "light"
     },
     "output_type": "display_data"
    },
    {
     "name": "stderr",
     "output_type": "stream",
     "text": [
      "'c' argument looks like a single numeric RGB or RGBA sequence, which should be avoided as value-mapping will have precedence in case its length matches with 'x' & 'y'.  Please use a 2-D array with a single row if you really want to specify the same RGB or RGBA value for all points.\n",
      "'c' argument looks like a single numeric RGB or RGBA sequence, which should be avoided as value-mapping will have precedence in case its length matches with 'x' & 'y'.  Please use a 2-D array with a single row if you really want to specify the same RGB or RGBA value for all points.\n"
     ]
    },
    {
     "name": "stdout",
     "output_type": "stream",
     "text": [
      "W/O [[34  0]\n",
      " [ 3 47]] \n",
      "\n",
      "W: [[34  0]\n",
      " [ 1 49]]\n"
     ]
    },
    {
     "data": {
      "image/png": "[encoded data removed]",
      "text/plain": [
       "<Figure size 432x288 with 1 Axes>"
      ]
     },
     "metadata": {
      "needs_background": "light"
     },
     "output_type": "display_data"
    },
    {
     "name": "stderr",
     "output_type": "stream",
     "text": [
      "'c' argument looks like a single numeric RGB or RGBA sequence, which should be avoided as value-mapping will have precedence in case its length matches with 'x' & 'y'.  Please use a 2-D array with a single row if you really want to specify the same RGB or RGBA value for all points.\n",
      "'c' argument looks like a single numeric RGB or RGBA sequence, which should be avoided as value-mapping will have precedence in case its length matches with 'x' & 'y'.  Please use a 2-D array with a single row if you really want to specify the same RGB or RGBA value for all points.\n"
     ]
    },
    {
     "data": {
      "image/png": "[encoded data removed]",
      "text/plain": [
       "<Figure size 432x288 with 1 Axes>"
      ]
     },
     "metadata": {
      "needs_background": "light"
     },
     "output_type": "display_data"
    },
    {
     "name": "stderr",
     "output_type": "stream",
     "text": [
      "'c' argument looks like a single numeric RGB or RGBA sequence, which should be avoided as value-mapping will have precedence in case its length matches with 'x' & 'y'.  Please use a 2-D array with a single row if you really want to specify the same RGB or RGBA value for all points.\n",
      "'c' argument looks like a single numeric RGB or RGBA sequence, which should be avoided as value-mapping will have precedence in case its length matches with 'x' & 'y'.  Please use a 2-D array with a single row if you really want to specify the same RGB or RGBA value for all points.\n"
     ]
    },
    {
     "name": "stdout",
     "output_type": "stream",
     "text": [
      "W/O [[63  4]\n",
      " [ 0 17]] \n",
      "\n",
      "W: [[63  4]\n",
      " [ 0 17]]\n"
     ]
    },
    {
     "data": {
      "image/png": "[encoded data removed]",
      "text/plain": [
       "<Figure size 432x288 with 1 Axes>"
      ]
     },
     "metadata": {
      "needs_background": "light"
     },
     "output_type": "display_data"
    },
    {
     "name": "stderr",
     "output_type": "stream",
     "text": [
      "'c' argument looks like a single numeric RGB or RGBA sequence, which should be avoided as value-mapping will have precedence in case its length matches with 'x' & 'y'.  Please use a 2-D array with a single row if you really want to specify the same RGB or RGBA value for all points.\n",
      "'c' argument looks like a single numeric RGB or RGBA sequence, which should be avoided as value-mapping will have precedence in case its length matches with 'x' & 'y'.  Please use a 2-D array with a single row if you really want to specify the same RGB or RGBA value for all points.\n"
     ]
    },
    {
     "data": {
      "image/png": "[encoded data removed]",
      "text/plain": [
       "<Figure size 432x288 with 1 Axes>"
      ]
     },
     "metadata": {
      "needs_background": "light"
     },
     "output_type": "display_data"
    },
    {
     "name": "stderr",
     "output_type": "stream",
     "text": [
      "'c' argument looks like a single numeric RGB or RGBA sequence, which should be avoided as value-mapping will have precedence in case its length matches with 'x' & 'y'.  Please use a 2-D array with a single row if you really want to specify the same RGB or RGBA value for all points.\n",
      "'c' argument looks like a single numeric RGB or RGBA sequence, which should be avoided as value-mapping will have precedence in case its length matches with 'x' & 'y'.  Please use a 2-D array with a single row if you really want to specify the same RGB or RGBA value for all points.\n"
     ]
    },
    {
     "name": "stdout",
     "output_type": "stream",
     "text": [
      "W/O [[53  1]\n",
      " [ 0 30]] \n",
      "\n",
      "W: [[53  1]\n",
      " [ 0 30]]\n"
     ]
    },
    {
     "data": {
      "image/png": "[encoded data removed]",
      "text/plain": [
       "<Figure size 432x288 with 1 Axes>"
      ]
     },
     "metadata": {
      "needs_background": "light"
     },
     "output_type": "display_data"
    },
    {
     "name": "stderr",
     "output_type": "stream",
     "text": [
      "'c' argument looks like a single numeric RGB or RGBA sequence, which should be avoided as value-mapping will have precedence in case its length matches with 'x' & 'y'.  Please use a 2-D array with a single row if you really want to specify the same RGB or RGBA value for all points.\n",
      "'c' argument looks like a single numeric RGB or RGBA sequence, which should be avoided as value-mapping will have precedence in case its length matches with 'x' & 'y'.  Please use a 2-D array with a single row if you really want to specify the same RGB or RGBA value for all points.\n"
     ]
    },
    {
     "data": {
      "image/png": "[encoded data removed]",
      "text/plain": [
       "<Figure size 432x288 with 1 Axes>"
      ]
     },
     "metadata": {
      "needs_background": "light"
     },
     "output_type": "display_data"
    },
    {
     "name": "stdout",
     "output_type": "stream",
     "text": [
      "Mean F1-Score(Bagging) : 0.9742611769830911 \n",
      "\n",
      "Mean F1-Score(Without) : 0.9718709551140903\n"
     ]
    }
   ],
   "source": [
    "X = datasets.iloc[:, 4:56].values\n",
    "le = LabelEncoder()\n",
    "datasets['is_data_class'] = le.fit_transform(datasets['is_data_class'] )\n",
    "Y = datasets['is_data_class']\n",
    "\n",
    "kf = KFold(n_splits = 5)\n",
    "f1score = []\n",
    "f1scoreBagging = []\n",
    "for train_index , test_index in kf.split(X):\n",
    "    X_Train,X_Test = X[train_index],X[test_index]\n",
    "    Y_Train,Y_Test = Y[train_index],Y[test_index]\n",
    "    \n",
    "    #Feature Scaling\n",
    "    sc_X = StandardScaler()\n",
    "    X_Train = sc_X.fit_transform(X_Train)\n",
    "    X_Test = sc_X.transform(X_Test)\n",
    "    \n",
    "    #FITTING THE CLASSIFIER INTO THE TRAINING SET\n",
    "    \n",
    "    classifier = tree.DecisionTreeClassifier()\n",
    "    classifierBagging = BaggingClassifier(n_estimators = 125 , random_state = 0)\n",
    "    classifier.fit(X_Train,Y_Train)\n",
    "    classifierBagging.fit(X_Train,Y_Train)\n",
    "    \n",
    "    #PREDICTING THE TEST SET RESULTS\n",
    "    Y_Pred = classifier.predict(X_Test)\n",
    "    Y_Pred_Bagging = classifierBagging.predict(X_Test)\n",
    "    \n",
    "    #Making confusion matrix\n",
    "    cm = confusion_matrix(Y_Test, Y_Pred)\n",
    "    cm_bagging = confusion_matrix(Y_Test,Y_Pred_Bagging)\n",
    "    print(\"W/O\", cm,\"\\n\")\n",
    "    print(\"W:\", cm_bagging)\n",
    "    \n",
    "    X_Set, Y_Set = X_Test, Y_Test\n",
    "\n",
    "    for i, j in enumerate(np.unique(Y_Set)):\n",
    "        plt.scatter(X_Set[Y_Set == j, 0], X_Set[Y_Set == j, 1],\n",
    "                    c = ListedColormap(('red', 'green'))(i), label = j)\n",
    "    plt.title('Without Bagging')\n",
    "    plt.legend()\n",
    "    plt.show()\n",
    "\n",
    "    for i, j in enumerate(np.unique(Y_Set)):\n",
    "        plt.scatter(X_Set[Y_Set == j, 0], X_Set[Y_Set == j, 1],\n",
    "                    c = ListedColormap(('red', 'green'))(i), label = j)\n",
    "    plt.title('Using Bagging')\n",
    "    plt.legend()\n",
    "    plt.show()\n",
    "    \n",
    "    #Calculating the F1 Score\n",
    "    varBag = classification_report(Y_Test,Y_Pred_Bagging,output_dict=True)['weighted avg']['f1-score']\n",
    "    f1scoreBagging.append(varBag)\n",
    "    \n",
    "    var = classification_report(Y_Test,Y_Pred,output_dict=True)['weighted avg']['f1-score']\n",
    "    f1score.append(var)\n",
    "    \n",
    "print(\"Mean F1-Score(Bagging) :\", mean(f1scoreBagging),\"\\n\")\n",
    "print(\"Mean F1-Score(Without) :\", mean(f1score))"
   ]
  },
  {
   "cell_type": "code",
   "execution_count": null,
   "metadata": {},
   "outputs": [],
   "source": []
  }
 ],
 "metadata": {
  "kernelspec": {
   "display_name": "Python 3",
   "language": "python",
   "name": "python3"
  },
  "language_info": {
   "codemirror_mode": {
    "name": "ipython",
    "version": 3
   },
   "file_extension": ".py",
   "mimetype": "text/x-python",
   "name": "python",
   "nbconvert_exporter": "python",
   "pygments_lexer": "ipython3",
   "version": "3.6.8"
  }
 },
 "nbformat": 4,
 "nbformat_minor": 2
}
